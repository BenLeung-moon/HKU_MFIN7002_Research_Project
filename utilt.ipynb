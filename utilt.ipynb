{
 "cells": [
  {
   "cell_type": "code",
   "execution_count": 55,
   "metadata": {},
   "outputs": [
    {
     "data": {
      "text/plain": [
       "'1.5.5'"
      ]
     },
     "execution_count": 55,
     "metadata": {},
     "output_type": "execute_result"
    }
   ],
   "source": [
    "import pandas as pd\n",
    "import pypfopt\n",
    "from pypfopt import EfficientFrontier, plotting\n",
    "import matplotlib.pyplot as plt\n",
    "pypfopt.__version__"
   ]
  },
  {
   "cell_type": "code",
   "execution_count": 39,
   "metadata": {},
   "outputs": [],
   "source": [
    "# data importation\n",
    "r = pd.read_csv('return.CSV', sep=',', header=None, index_col=0)\n",
    "r = r.squeeze()\n",
    "cov = pd.read_csv('cov.CSV', sep=',', header=0, index_col=0)\n",
    "\n"
   ]
  },
  {
   "cell_type": "code",
   "execution_count": 58,
   "metadata": {},
   "outputs": [
    {
     "data": {
      "text/html": [
       "<div>\n",
       "<style scoped>\n",
       "    .dataframe tbody tr th:only-of-type {\n",
       "        vertical-align: middle;\n",
       "    }\n",
       "\n",
       "    .dataframe tbody tr th {\n",
       "        vertical-align: top;\n",
       "    }\n",
       "\n",
       "    .dataframe thead th {\n",
       "        text-align: right;\n",
       "    }\n",
       "</style>\n",
       "<table border=\"1\" class=\"dataframe\">\n",
       "  <thead>\n",
       "    <tr style=\"text-align: right;\">\n",
       "      <th></th>\n",
       "      <th>us_bond</th>\n",
       "      <th>us_equity</th>\n",
       "      <th>developed_equity</th>\n",
       "      <th>emerging_equity</th>\n",
       "      <th>hedge_fund</th>\n",
       "      <th>reit</th>\n",
       "      <th>commodity</th>\n",
       "      <th>gold</th>\n",
       "      <th>btc</th>\n",
       "    </tr>\n",
       "    <tr>\n",
       "      <th>Ticker</th>\n",
       "      <th></th>\n",
       "      <th></th>\n",
       "      <th></th>\n",
       "      <th></th>\n",
       "      <th></th>\n",
       "      <th></th>\n",
       "      <th></th>\n",
       "      <th></th>\n",
       "      <th></th>\n",
       "    </tr>\n",
       "  </thead>\n",
       "  <tbody>\n",
       "    <tr>\n",
       "      <th>us_bond</th>\n",
       "      <td>0.0033</td>\n",
       "      <td>0.0040</td>\n",
       "      <td>0.0028</td>\n",
       "      <td>0.0044</td>\n",
       "      <td>0.0012</td>\n",
       "      <td>0.0043</td>\n",
       "      <td>-0.0049</td>\n",
       "      <td>0.0041</td>\n",
       "      <td>-0.0737</td>\n",
       "    </tr>\n",
       "    <tr>\n",
       "      <th>us_equity</th>\n",
       "      <td>0.0040</td>\n",
       "      <td>0.0248</td>\n",
       "      <td>0.0203</td>\n",
       "      <td>0.0183</td>\n",
       "      <td>0.0090</td>\n",
       "      <td>0.0153</td>\n",
       "      <td>0.0042</td>\n",
       "      <td>0.0004</td>\n",
       "      <td>0.9619</td>\n",
       "    </tr>\n",
       "    <tr>\n",
       "      <th>developed_equity</th>\n",
       "      <td>0.0028</td>\n",
       "      <td>0.0203</td>\n",
       "      <td>0.0207</td>\n",
       "      <td>0.0195</td>\n",
       "      <td>0.0079</td>\n",
       "      <td>0.0115</td>\n",
       "      <td>0.0069</td>\n",
       "      <td>0.0023</td>\n",
       "      <td>0.8156</td>\n",
       "    </tr>\n",
       "    <tr>\n",
       "      <th>emerging_equity</th>\n",
       "      <td>0.0044</td>\n",
       "      <td>0.0183</td>\n",
       "      <td>0.0195</td>\n",
       "      <td>0.0261</td>\n",
       "      <td>0.0081</td>\n",
       "      <td>0.0116</td>\n",
       "      <td>0.0041</td>\n",
       "      <td>0.0114</td>\n",
       "      <td>-0.0785</td>\n",
       "    </tr>\n",
       "    <tr>\n",
       "      <th>hedge_fund</th>\n",
       "      <td>0.0012</td>\n",
       "      <td>0.0090</td>\n",
       "      <td>0.0079</td>\n",
       "      <td>0.0081</td>\n",
       "      <td>0.0038</td>\n",
       "      <td>0.0047</td>\n",
       "      <td>0.0028</td>\n",
       "      <td>0.0018</td>\n",
       "      <td>0.2155</td>\n",
       "    </tr>\n",
       "    <tr>\n",
       "      <th>reit</th>\n",
       "      <td>0.0043</td>\n",
       "      <td>0.0153</td>\n",
       "      <td>0.0115</td>\n",
       "      <td>0.0116</td>\n",
       "      <td>0.0047</td>\n",
       "      <td>0.0245</td>\n",
       "      <td>0.0068</td>\n",
       "      <td>0.0007</td>\n",
       "      <td>-0.2240</td>\n",
       "    </tr>\n",
       "    <tr>\n",
       "      <th>commodity</th>\n",
       "      <td>-0.0049</td>\n",
       "      <td>0.0042</td>\n",
       "      <td>0.0069</td>\n",
       "      <td>0.0041</td>\n",
       "      <td>0.0028</td>\n",
       "      <td>0.0068</td>\n",
       "      <td>0.0475</td>\n",
       "      <td>0.0016</td>\n",
       "      <td>0.0124</td>\n",
       "    </tr>\n",
       "    <tr>\n",
       "      <th>gold</th>\n",
       "      <td>0.0041</td>\n",
       "      <td>0.0004</td>\n",
       "      <td>0.0023</td>\n",
       "      <td>0.0114</td>\n",
       "      <td>0.0018</td>\n",
       "      <td>0.0007</td>\n",
       "      <td>0.0016</td>\n",
       "      <td>0.0177</td>\n",
       "      <td>-1.1228</td>\n",
       "    </tr>\n",
       "    <tr>\n",
       "      <th>btc</th>\n",
       "      <td>-0.0737</td>\n",
       "      <td>0.9619</td>\n",
       "      <td>0.8156</td>\n",
       "      <td>-0.0785</td>\n",
       "      <td>0.2155</td>\n",
       "      <td>-0.2240</td>\n",
       "      <td>0.0124</td>\n",
       "      <td>-1.1228</td>\n",
       "      <td>224.0111</td>\n",
       "    </tr>\n",
       "  </tbody>\n",
       "</table>\n",
       "</div>"
      ],
      "text/plain": [
       "                  us_bond  us_equity  developed_equity  emerging_equity  \\\n",
       "Ticker                                                                    \n",
       "us_bond            0.0033     0.0040            0.0028           0.0044   \n",
       "us_equity          0.0040     0.0248            0.0203           0.0183   \n",
       "developed_equity   0.0028     0.0203            0.0207           0.0195   \n",
       "emerging_equity    0.0044     0.0183            0.0195           0.0261   \n",
       "hedge_fund         0.0012     0.0090            0.0079           0.0081   \n",
       "reit               0.0043     0.0153            0.0115           0.0116   \n",
       "commodity         -0.0049     0.0042            0.0069           0.0041   \n",
       "gold               0.0041     0.0004            0.0023           0.0114   \n",
       "btc               -0.0737     0.9619            0.8156          -0.0785   \n",
       "\n",
       "                  hedge_fund    reit  commodity    gold       btc  \n",
       "Ticker                                                             \n",
       "us_bond               0.0012  0.0043    -0.0049  0.0041   -0.0737  \n",
       "us_equity             0.0090  0.0153     0.0042  0.0004    0.9619  \n",
       "developed_equity      0.0079  0.0115     0.0069  0.0023    0.8156  \n",
       "emerging_equity       0.0081  0.0116     0.0041  0.0114   -0.0785  \n",
       "hedge_fund            0.0038  0.0047     0.0028  0.0018    0.2155  \n",
       "reit                  0.0047  0.0245     0.0068  0.0007   -0.2240  \n",
       "commodity             0.0028  0.0068     0.0475  0.0016    0.0124  \n",
       "gold                  0.0018  0.0007     0.0016  0.0177   -1.1228  \n",
       "btc                   0.2155 -0.2240     0.0124 -1.1228  224.0111  "
      ]
     },
     "execution_count": 58,
     "metadata": {},
     "output_type": "execute_result"
    }
   ],
   "source": [
    "cov"
   ]
  },
  {
   "cell_type": "code",
   "execution_count": 57,
   "metadata": {},
   "outputs": [
    {
     "data": {
      "text/plain": [
       "0\n",
       "us_bond             0.020350\n",
       "us_equity           0.119000\n",
       "developed_equity    0.051706\n",
       "emerging_equity     0.028604\n",
       "hedge_fund          0.041399\n",
       "reit                0.069545\n",
       "commodity          -0.003898\n",
       "gold                0.030725\n",
       "btc                 7.298820\n",
       "Name: 1, dtype: float64"
      ]
     },
     "execution_count": 57,
     "metadata": {},
     "output_type": "execute_result"
    }
   ],
   "source": [
    "r"
   ]
  },
  {
   "cell_type": "code",
   "execution_count": 67,
   "metadata": {},
   "outputs": [],
   "source": [
    "ef = EfficientFrontier(r, cov)\n"
   ]
  },
  {
   "cell_type": "code",
   "execution_count": 68,
   "metadata": {},
   "outputs": [
    {
     "data": {
      "text/plain": [
       "OrderedDict([('us_bond', 0.0),\n",
       "             ('us_equity', 0.1677458673674235),\n",
       "             ('developed_equity', 0.0),\n",
       "             ('emerging_equity', 0.0),\n",
       "             ('hedge_fund', 0.0),\n",
       "             ('reit', 0.2682486566646236),\n",
       "             ('commodity', 0.0),\n",
       "             ('gold', 0.556519106513134),\n",
       "             ('btc', 0.0074863694548188)])"
      ]
     },
     "execution_count": 68,
     "metadata": {},
     "output_type": "execute_result"
    }
   ],
   "source": [
    "ef.max_sharpe()"
   ]
  },
  {
   "cell_type": "code",
   "execution_count": 60,
   "metadata": {},
   "outputs": [],
   "source": [
    "weights = ef.clean_weights()"
   ]
  },
  {
   "cell_type": "code",
   "execution_count": 61,
   "metadata": {},
   "outputs": [
    {
     "data": {
      "text/plain": [
       "OrderedDict([('us_bond', 0.19999),\n",
       "             ('us_equity', 0.0),\n",
       "             ('developed_equity', 0.15),\n",
       "             ('emerging_equity', 0.0),\n",
       "             ('hedge_fund', 0.0),\n",
       "             ('reit', 0.0),\n",
       "             ('commodity', 0.0),\n",
       "             ('gold', 0.0),\n",
       "             ('btc', 0.64999)])"
      ]
     },
     "execution_count": 61,
     "metadata": {},
     "output_type": "execute_result"
    }
   ],
   "source": [
    "weights"
   ]
  },
  {
   "cell_type": "code",
   "execution_count": 69,
   "metadata": {},
   "outputs": [
    {
     "ename": "InstantiationError",
     "evalue": "Adding constraints to an already solved problem might have unintended consequences. A new instance should be created for the new set of constraints.",
     "output_type": "error",
     "traceback": [
      "\u001b[1;31m---------------------------------------------------------------------------\u001b[0m",
      "\u001b[1;31mInstantiationError\u001b[0m                        Traceback (most recent call last)",
      "Cell \u001b[1;32mIn[69], line 1\u001b[0m\n\u001b[1;32m----> 1\u001b[0m \u001b[43mef\u001b[49m\u001b[38;5;241;43m.\u001b[39;49m\u001b[43madd_constraint\u001b[49m\u001b[43m(\u001b[49m\u001b[38;5;28;43;01mlambda\u001b[39;49;00m\u001b[43m \u001b[49m\u001b[43mw\u001b[49m\u001b[43m:\u001b[49m\u001b[43m \u001b[49m\u001b[43mw\u001b[49m\u001b[43m[\u001b[49m\u001b[38;5;241;43m0\u001b[39;49m\u001b[43m]\u001b[49m\u001b[43m \u001b[49m\u001b[38;5;241;43m>\u001b[39;49m\u001b[38;5;241;43m=\u001b[39;49m\u001b[43m \u001b[49m\u001b[38;5;241;43m0.2\u001b[39;49m\u001b[43m)\u001b[49m\n\u001b[0;32m      2\u001b[0m ef\u001b[38;5;241m.\u001b[39madd_constraint(\u001b[38;5;28;01mlambda\u001b[39;00m w: w[\u001b[38;5;241m2\u001b[39m] \u001b[38;5;241m==\u001b[39m \u001b[38;5;241m0.15\u001b[39m)\n\u001b[0;32m      3\u001b[0m ef\u001b[38;5;241m.\u001b[39madd_constraint(\u001b[38;5;28;01mlambda\u001b[39;00m w: w[\u001b[38;5;241m3\u001b[39m] \u001b[38;5;241m+\u001b[39m w[\u001b[38;5;241m4\u001b[39m] \u001b[38;5;241m<\u001b[39m\u001b[38;5;241m=\u001b[39m \u001b[38;5;241m0.10\u001b[39m)\n",
      "File \u001b[1;32m~\\AppData\\Local\\Packages\\PythonSoftwareFoundation.Python.3.12_qbz5n2kfra8p0\\LocalCache\\local-packages\\Python312\\site-packages\\pypfopt\\base_optimizer.py:360\u001b[0m, in \u001b[0;36mBaseConvexOptimizer.add_constraint\u001b[1;34m(self, new_constraint)\u001b[0m\n\u001b[0;32m    356\u001b[0m     \u001b[38;5;28;01mraise\u001b[39;00m \u001b[38;5;167;01mTypeError\u001b[39;00m(\n\u001b[0;32m    357\u001b[0m         \u001b[38;5;124m\"\u001b[39m\u001b[38;5;124mNew constraint must be provided as a callable (e.g lambda function)\u001b[39m\u001b[38;5;124m\"\u001b[39m\n\u001b[0;32m    358\u001b[0m     )\n\u001b[0;32m    359\u001b[0m \u001b[38;5;28;01mif\u001b[39;00m \u001b[38;5;28mself\u001b[39m\u001b[38;5;241m.\u001b[39m_opt \u001b[38;5;129;01mis\u001b[39;00m \u001b[38;5;129;01mnot\u001b[39;00m \u001b[38;5;28;01mNone\u001b[39;00m:\n\u001b[1;32m--> 360\u001b[0m     \u001b[38;5;28;01mraise\u001b[39;00m exceptions\u001b[38;5;241m.\u001b[39mInstantiationError(\n\u001b[0;32m    361\u001b[0m         \u001b[38;5;124m\"\u001b[39m\u001b[38;5;124mAdding constraints to an already solved problem might have unintended consequences. \u001b[39m\u001b[38;5;124m\"\u001b[39m\n\u001b[0;32m    362\u001b[0m         \u001b[38;5;124m\"\u001b[39m\u001b[38;5;124mA new instance should be created for the new set of constraints.\u001b[39m\u001b[38;5;124m\"\u001b[39m\n\u001b[0;32m    363\u001b[0m     )\n\u001b[0;32m    364\u001b[0m \u001b[38;5;28mself\u001b[39m\u001b[38;5;241m.\u001b[39m_constraints\u001b[38;5;241m.\u001b[39mappend(new_constraint(\u001b[38;5;28mself\u001b[39m\u001b[38;5;241m.\u001b[39m_w))\n",
      "\u001b[1;31mInstantiationError\u001b[0m: Adding constraints to an already solved problem might have unintended consequences. A new instance should be created for the new set of constraints."
     ]
    }
   ],
   "source": [
    "ef.add_constraint(lambda w: w[0] >= 0.2)\n",
    "ef.add_constraint(lambda w: w[2] == 0.15)\n",
    "ef.add_constraint(lambda w: w[3] + w[4] <= 0.10)\n",
    "\n",
    "fig, ax = plt.subplots()\n",
    "plotting.plot_efficient_frontier(ef, ax=ax, show_assets=True)\n",
    "plt.show()"
   ]
  }
 ],
 "metadata": {
  "kernelspec": {
   "display_name": "Python 3",
   "language": "python",
   "name": "python3"
  },
  "language_info": {
   "codemirror_mode": {
    "name": "ipython",
    "version": 3
   },
   "file_extension": ".py",
   "mimetype": "text/x-python",
   "name": "python",
   "nbconvert_exporter": "python",
   "pygments_lexer": "ipython3",
   "version": "3.12.6"
  }
 },
 "nbformat": 4,
 "nbformat_minor": 2
}
