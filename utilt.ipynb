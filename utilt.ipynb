{
 "cells": [
  {
   "cell_type": "markdown",
   "metadata": {},
   "source": [
    "### Package import"
   ]
  },
  {
   "cell_type": "code",
   "execution_count": 6,
   "metadata": {},
   "outputs": [
    {
     "data": {
      "text/plain": [
       "'1.5.5'"
      ]
     },
     "execution_count": 6,
     "metadata": {},
     "output_type": "execute_result"
    }
   ],
   "source": [
    "# bug in pypfopt plotting file, should remove the style setting in plotting\n",
    "import pandas as pd\n",
    "import numpy as np\n",
    "import pypfopt\n",
    "from pypfopt import EfficientFrontier, plotting\n",
    "from pypfopt import base_optimizer\n",
    "import matplotlib.pyplot as plt\n",
    "pypfopt.__version__"
   ]
  },
  {
   "cell_type": "markdown",
   "metadata": {},
   "source": [
    "### Data Import"
   ]
  },
  {
   "cell_type": "code",
   "execution_count": 9,
   "metadata": {},
   "outputs": [],
   "source": [
    "# data importation\n",
    "# Expected Return of Each Asset\n",
    "r = pd.read_csv('return.CSV', sep=',', header=None, index_col=0)\n",
    "r = r.squeeze()\n",
    "# Covariance Table of Each Asset\n",
    "cov = pd.read_csv('cov.CSV', sep=',', header=0, index_col=0)\n",
    "\n"
   ]
  },
  {
   "cell_type": "code",
   "execution_count": 10,
   "metadata": {},
   "outputs": [
    {
     "data": {
      "text/html": [
       "<div>\n",
       "<style scoped>\n",
       "    .dataframe tbody tr th:only-of-type {\n",
       "        vertical-align: middle;\n",
       "    }\n",
       "\n",
       "    .dataframe tbody tr th {\n",
       "        vertical-align: top;\n",
       "    }\n",
       "\n",
       "    .dataframe thead th {\n",
       "        text-align: right;\n",
       "    }\n",
       "</style>\n",
       "<table border=\"1\" class=\"dataframe\">\n",
       "  <thead>\n",
       "    <tr style=\"text-align: right;\">\n",
       "      <th></th>\n",
       "      <th>us_bond</th>\n",
       "      <th>us_equity</th>\n",
       "      <th>developed_equity</th>\n",
       "      <th>emerging_equity</th>\n",
       "      <th>hedge_fund</th>\n",
       "      <th>reit</th>\n",
       "      <th>commodity</th>\n",
       "      <th>gold</th>\n",
       "      <th>btc</th>\n",
       "    </tr>\n",
       "    <tr>\n",
       "      <th>Ticker</th>\n",
       "      <th></th>\n",
       "      <th></th>\n",
       "      <th></th>\n",
       "      <th></th>\n",
       "      <th></th>\n",
       "      <th></th>\n",
       "      <th></th>\n",
       "      <th></th>\n",
       "      <th></th>\n",
       "    </tr>\n",
       "  </thead>\n",
       "  <tbody>\n",
       "    <tr>\n",
       "      <th>us_bond</th>\n",
       "      <td>0.0033</td>\n",
       "      <td>0.0040</td>\n",
       "      <td>0.0028</td>\n",
       "      <td>0.0044</td>\n",
       "      <td>0.0012</td>\n",
       "      <td>0.0043</td>\n",
       "      <td>-0.0049</td>\n",
       "      <td>0.0041</td>\n",
       "      <td>-0.0737</td>\n",
       "    </tr>\n",
       "    <tr>\n",
       "      <th>us_equity</th>\n",
       "      <td>0.0040</td>\n",
       "      <td>0.0248</td>\n",
       "      <td>0.0203</td>\n",
       "      <td>0.0183</td>\n",
       "      <td>0.0090</td>\n",
       "      <td>0.0153</td>\n",
       "      <td>0.0042</td>\n",
       "      <td>0.0004</td>\n",
       "      <td>0.9619</td>\n",
       "    </tr>\n",
       "    <tr>\n",
       "      <th>developed_equity</th>\n",
       "      <td>0.0028</td>\n",
       "      <td>0.0203</td>\n",
       "      <td>0.0207</td>\n",
       "      <td>0.0195</td>\n",
       "      <td>0.0079</td>\n",
       "      <td>0.0115</td>\n",
       "      <td>0.0069</td>\n",
       "      <td>0.0023</td>\n",
       "      <td>0.8156</td>\n",
       "    </tr>\n",
       "    <tr>\n",
       "      <th>emerging_equity</th>\n",
       "      <td>0.0044</td>\n",
       "      <td>0.0183</td>\n",
       "      <td>0.0195</td>\n",
       "      <td>0.0261</td>\n",
       "      <td>0.0081</td>\n",
       "      <td>0.0116</td>\n",
       "      <td>0.0041</td>\n",
       "      <td>0.0114</td>\n",
       "      <td>-0.0785</td>\n",
       "    </tr>\n",
       "    <tr>\n",
       "      <th>hedge_fund</th>\n",
       "      <td>0.0012</td>\n",
       "      <td>0.0090</td>\n",
       "      <td>0.0079</td>\n",
       "      <td>0.0081</td>\n",
       "      <td>0.0038</td>\n",
       "      <td>0.0047</td>\n",
       "      <td>0.0028</td>\n",
       "      <td>0.0018</td>\n",
       "      <td>0.2155</td>\n",
       "    </tr>\n",
       "    <tr>\n",
       "      <th>reit</th>\n",
       "      <td>0.0043</td>\n",
       "      <td>0.0153</td>\n",
       "      <td>0.0115</td>\n",
       "      <td>0.0116</td>\n",
       "      <td>0.0047</td>\n",
       "      <td>0.0245</td>\n",
       "      <td>0.0068</td>\n",
       "      <td>0.0007</td>\n",
       "      <td>-0.2240</td>\n",
       "    </tr>\n",
       "    <tr>\n",
       "      <th>commodity</th>\n",
       "      <td>-0.0049</td>\n",
       "      <td>0.0042</td>\n",
       "      <td>0.0069</td>\n",
       "      <td>0.0041</td>\n",
       "      <td>0.0028</td>\n",
       "      <td>0.0068</td>\n",
       "      <td>0.0475</td>\n",
       "      <td>0.0016</td>\n",
       "      <td>0.0124</td>\n",
       "    </tr>\n",
       "    <tr>\n",
       "      <th>gold</th>\n",
       "      <td>0.0041</td>\n",
       "      <td>0.0004</td>\n",
       "      <td>0.0023</td>\n",
       "      <td>0.0114</td>\n",
       "      <td>0.0018</td>\n",
       "      <td>0.0007</td>\n",
       "      <td>0.0016</td>\n",
       "      <td>0.0177</td>\n",
       "      <td>-1.1228</td>\n",
       "    </tr>\n",
       "    <tr>\n",
       "      <th>btc</th>\n",
       "      <td>-0.0737</td>\n",
       "      <td>0.9619</td>\n",
       "      <td>0.8156</td>\n",
       "      <td>-0.0785</td>\n",
       "      <td>0.2155</td>\n",
       "      <td>-0.2240</td>\n",
       "      <td>0.0124</td>\n",
       "      <td>-1.1228</td>\n",
       "      <td>224.0111</td>\n",
       "    </tr>\n",
       "  </tbody>\n",
       "</table>\n",
       "</div>"
      ],
      "text/plain": [
       "                  us_bond  us_equity  developed_equity  emerging_equity  \\\n",
       "Ticker                                                                    \n",
       "us_bond            0.0033     0.0040            0.0028           0.0044   \n",
       "us_equity          0.0040     0.0248            0.0203           0.0183   \n",
       "developed_equity   0.0028     0.0203            0.0207           0.0195   \n",
       "emerging_equity    0.0044     0.0183            0.0195           0.0261   \n",
       "hedge_fund         0.0012     0.0090            0.0079           0.0081   \n",
       "reit               0.0043     0.0153            0.0115           0.0116   \n",
       "commodity         -0.0049     0.0042            0.0069           0.0041   \n",
       "gold               0.0041     0.0004            0.0023           0.0114   \n",
       "btc               -0.0737     0.9619            0.8156          -0.0785   \n",
       "\n",
       "                  hedge_fund    reit  commodity    gold       btc  \n",
       "Ticker                                                             \n",
       "us_bond               0.0012  0.0043    -0.0049  0.0041   -0.0737  \n",
       "us_equity             0.0090  0.0153     0.0042  0.0004    0.9619  \n",
       "developed_equity      0.0079  0.0115     0.0069  0.0023    0.8156  \n",
       "emerging_equity       0.0081  0.0116     0.0041  0.0114   -0.0785  \n",
       "hedge_fund            0.0038  0.0047     0.0028  0.0018    0.2155  \n",
       "reit                  0.0047  0.0245     0.0068  0.0007   -0.2240  \n",
       "commodity             0.0028  0.0068     0.0475  0.0016    0.0124  \n",
       "gold                  0.0018  0.0007     0.0016  0.0177   -1.1228  \n",
       "btc                   0.2155 -0.2240     0.0124 -1.1228  224.0111  "
      ]
     },
     "execution_count": 10,
     "metadata": {},
     "output_type": "execute_result"
    }
   ],
   "source": [
    "# show structure of cov\n",
    "cov"
   ]
  },
  {
   "cell_type": "code",
   "execution_count": 11,
   "metadata": {},
   "outputs": [
    {
     "data": {
      "text/plain": [
       "0\n",
       "us_bond             0.020350\n",
       "us_equity           0.119000\n",
       "developed_equity    0.051706\n",
       "emerging_equity     0.028604\n",
       "hedge_fund          0.041399\n",
       "reit                0.069545\n",
       "commodity          -0.003898\n",
       "gold                0.030725\n",
       "btc                 7.298820\n",
       "Name: 1, dtype: float64"
      ]
     },
     "execution_count": 11,
     "metadata": {},
     "output_type": "execute_result"
    }
   ],
   "source": [
    "# show strcuture of r\n",
    "r"
   ]
  },
  {
   "cell_type": "markdown",
   "metadata": {},
   "source": [
    "Variable Explain:\\\n",
    "us_bond: U.S. Bonds\\\n",
    "us_equity: U.S.Total Equities\\\n",
    "developed_equity: Developed-Market Equities Ex US\\\n",
    "emerging_equity: Emerging-Market Equities\\\n",
    "hedge_fund: Hedge Funds\\\n",
    "reit: Global REITS\\\n",
    "commodity: Commodities\\\n",
    "gold: Gold\\\n",
    "btc: BTC"
   ]
  },
  {
   "cell_type": "markdown",
   "metadata": {},
   "source": [
    "### Question\n",
    "Given Assets and Target Portfolio and portfolio standard deviation, combinated:  \n",
    " with gold and btc  \n",
    " with gold and no btc  \n",
    " with btc and no gold  \n",
    " without gold and btc.  \n",
    " \n",
    " find whether gold and bitcoin can diversify and the best return\\\n",
    " \n",
    "Q1: US bonds, US total Equity.  \n",
    "Q2: US bonds, US total Equity, Global REITs, Commodities  \n",
    "Q3: US bonds, US total Equity, Developed-Market Equities Ex US, Emerging-Market Equities, Hedge Funds, Global REITs, Commodities  \n"
   ]
  },
  {
   "cell_type": "code",
   "execution_count": 77,
   "metadata": {},
   "outputs": [],
   "source": [
    "# construct sector map to add constraint in optimisation\n",
    "\n",
    "sector_mapper = {\n",
    "    \"us_bond\": \"us_bond\",\n",
    "    \"us_equity\": \"us_equity\",\n",
    "    \"developed_equity\": \"developed_equity\",\n",
    "    \"emerging_equity\": \"emerging_equity\",\n",
    "    \"hedge_fund\": \"hedge_fund\",\n",
    "    \"reit\": \"reit\",\n",
    "    \"commodity\": \"commodity\",\n",
    "    \"gold\": \"gold\",\n",
    "    \"btc\": \"btc\"\n",
    "}"
   ]
  },
  {
   "cell_type": "code",
   "execution_count": 13,
   "metadata": {},
   "outputs": [
    {
     "name": "stdout",
     "output_type": "stream",
     "text": [
      "std 0.02 is variance 0.0004\n",
      "std 0.04 is variance 0.0016\n",
      "std 0.06 is variance 0.0036\n",
      "std 0.08 is variance 0.0064\n",
      "std 0.1 is variance 0.01\n",
      "std 0.12 is variance 0.0144\n",
      "std 0.14 is variance 0.0196\n",
      "std 0.16 is variance 0.0256\n"
     ]
    }
   ],
   "source": [
    "# standard deviation to variance\n",
    "for i in range(2,18,2):\n",
    "    print(f\"std {i/100} is variance {np.round((i/100)*(i/100), 4)}\")"
   ]
  },
  {
   "cell_type": "markdown",
   "metadata": {},
   "source": [
    "# Q1 Demo: US bonds, US total Equity.\n"
   ]
  },
  {
   "cell_type": "code",
   "execution_count": 90,
   "metadata": {},
   "outputs": [],
   "source": [
    "#construct portfolio, bounds from -1 to 1 mean we can short the asset. adjust to (0, 1) to ban short trade\n",
    "ef = EfficientFrontier(r, cov, weight_bounds=(0, 1))\n",
    "# ef = EfficientFrontier(r, cov)"
   ]
  },
  {
   "cell_type": "code",
   "execution_count": 80,
   "metadata": {},
   "outputs": [],
   "source": [
    "#setting constraint (number from 0 ~ 1)\n",
    "sector_lower = {} # no at least requirement\n",
    "sector_upper = {\n",
    "    # assets below will not join the portfolio, not higher than 0%\n",
    "    \"developed_equity\": 0,\n",
    "    \"emerging_equity\": 0,\n",
    "    \"hedge_fund\": 0,\n",
    "    \"reit\": 0,\n",
    "    \"commodity\": 0,\n",
    "    \"gold\": 0,\n",
    "    \"btc\": 0\n",
    "}\n",
    "\n",
    "# adding constraint\n",
    "ef.add_sector_constraints(sector_mapper, sector_lower, sector_upper)"
   ]
  },
  {
   "cell_type": "code",
   "execution_count": 86,
   "metadata": {},
   "outputs": [
    {
     "data": {
      "text/plain": [
       "OrderedDict([('us_bond', 0.90779),\n",
       "             ('us_equity', 0.09221),\n",
       "             ('developed_equity', 0.0),\n",
       "             ('emerging_equity', 0.0),\n",
       "             ('hedge_fund', 0.0),\n",
       "             ('reit', 0.0),\n",
       "             ('commodity', 0.0),\n",
       "             ('gold', 0.0),\n",
       "             ('btc', 0.0)])"
      ]
     },
     "execution_count": 86,
     "metadata": {},
     "output_type": "execute_result"
    }
   ],
   "source": [
    "# Return Weight of Portfolio with given volatility(std)\n",
    "ef.efficient_risk(0.06)\n",
    "weights = ef.clean_weights()\n",
    "weights"
   ]
  },
  {
   "cell_type": "code",
   "execution_count": 87,
   "metadata": {},
   "outputs": [
    {
     "data": {
      "text/plain": [
       "(0.02944697770194462, 0.060000000031881356, 0.15744962828208187)"
      ]
     },
     "execution_count": 87,
     "metadata": {},
     "output_type": "execute_result"
    }
   ],
   "source": [
    "# return (expected return, volatility, sharpe ratio)\n",
    "ef.portfolio_performance()"
   ]
  },
  {
   "cell_type": "markdown",
   "metadata": {},
   "source": [
    "#### Question 1 Sample, portfolio with btc but no gold"
   ]
  },
  {
   "cell_type": "code",
   "execution_count": 92,
   "metadata": {},
   "outputs": [
    {
     "name": "stderr",
     "output_type": "stream",
     "text": [
      "C:\\Users\\liang\\AppData\\Local\\Packages\\PythonSoftwareFoundation.Python.3.12_qbz5n2kfra8p0\\LocalCache\\local-packages\\Python312\\site-packages\\cvxpy\\problems\\problem.py:1407: UserWarning: Solution may be inaccurate. Try another solver, adjusting the solver settings, or solve with verbose=True for more information.\n",
      "  warnings.warn(\n"
     ]
    },
    {
     "data": {
      "text/plain": [
       "OrderedDict([('us_bond', 0.94939),\n",
       "             ('us_equity', 0.04959),\n",
       "             ('developed_equity', 0.0),\n",
       "             ('emerging_equity', 0.0),\n",
       "             ('hedge_fund', 0.0),\n",
       "             ('reit', 0.0),\n",
       "             ('commodity', 0.0),\n",
       "             ('gold', 0.0),\n",
       "             ('btc', 0.00102)])"
      ]
     },
     "execution_count": 92,
     "metadata": {},
     "output_type": "execute_result"
    }
   ],
   "source": [
    "# construct portfolio\n",
    "ef = EfficientFrontier(r, cov, weight_bounds=(0, 1))\n",
    "\n",
    "#setting constraint (number from 0 ~ 1)\n",
    "sector_lower = {} # no at least requirement\n",
    "sector_upper = {\n",
    "    # assets below will not join the portfolio, not higher than 0%\n",
    "    \"developed_equity\": 0,\n",
    "    \"emerging_equity\": 0,\n",
    "    \"hedge_fund\": 0,\n",
    "    \"reit\": 0,\n",
    "    \"commodity\": 0,\n",
    "    \"gold\": 0,\n",
    "    \"btc\": 1\n",
    "}\n",
    "\n",
    "# adding constraint\n",
    "ef.add_sector_constraints(sector_mapper, sector_lower, sector_upper)\n",
    "\n",
    "# Optimise Portfolio with given volatility(std)\n",
    "ef.efficient_risk(0.06)\n",
    "weights = ef.clean_weights()\n",
    "weights"
   ]
  },
  {
   "cell_type": "code",
   "execution_count": 93,
   "metadata": {},
   "outputs": [
    {
     "data": {
      "text/plain": [
       "(0.03267212797786981, 0.06000000000019907, 0.21120213296379606)"
      ]
     },
     "execution_count": 93,
     "metadata": {},
     "output_type": "execute_result"
    }
   ],
   "source": [
    "# return (expected return, volatility, sharpe ratio)\n",
    "ef.portfolio_performance()"
   ]
  },
  {
   "cell_type": "code",
   "execution_count": 88,
   "metadata": {},
   "outputs": [],
   "source": [
    "# Return Weight of Portfolio with max sharpe ratio\n",
    "# ef.max_sharpe()\n"
   ]
  },
  {
   "cell_type": "code",
   "execution_count": 91,
   "metadata": {},
   "outputs": [
    {
     "data": {
      "image/png": "[encoded data removed]",
      "text/plain": [
       "<Figure size 640x480 with 1 Axes>"
      ]
     },
     "metadata": {},
     "output_type": "display_data"
    }
   ],
   "source": [
    "# Block used to plotting (unfinished)\n",
    "fig, ax = plt.subplots()\n",
    "plotting.plot_efficient_frontier(ef, ax=ax, show_assets=True)\n",
    "plt.show()"
   ]
  }
 ],
 "metadata": {
  "kernelspec": {
   "display_name": "Python 3",
   "language": "python",
   "name": "python3"
  },
  "language_info": {
   "codemirror_mode": {
    "name": "ipython",
    "version": 3
   },
   "file_extension": ".py",
   "mimetype": "text/x-python",
   "name": "python",
   "nbconvert_exporter": "python",
   "pygments_lexer": "ipython3",
   "version": "3.12.6"
  }
 },
 "nbformat": 4,
 "nbformat_minor": 2
}
