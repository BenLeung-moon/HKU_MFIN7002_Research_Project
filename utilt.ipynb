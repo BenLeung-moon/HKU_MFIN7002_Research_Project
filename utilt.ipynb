{
 "cells": [
  {
   "cell_type": "code",
   "execution_count": 1,
   "metadata": {},
   "outputs": [],
   "source": [
    "import pandas as pd\n",
    "import pypfopt as pfop"
   ]
  },
  {
   "cell_type": "code",
   "execution_count": null,
   "metadata": {},
   "outputs": [],
   "source": [
    "# data importation\n",
    "# sequence of data are corresponding correctly with the name sequence, whichever horizontally or vertically\n",
    "AssetName = [\"us_bond\", \"us_equity\", \"developed_equity\", \"emerging_equity\", \"hedge_fund\", \"reits\", \"commodity\", \"gold\", \"btc\"]\n",
    "r = [0.0204, 0.119, 0.0517, 0.0286, 0.0414, 0.0695, -0.0039, 0.0307, 7.2988]\n",
    "std = [0.0598, 0.1643, 0.1503, 0.1686, 0.0641, 0.1634, 0.2277, 0.1388, 15.6325]\n",
    "\n",
    "# covariance table\n",
    "cov = [[0.0033,0.0040,0.0028,0.0044,0.0012,0.0043,-0.0049,0.0041,-0.0737],\n",
    "[0.0040, 0.0248, 0.0203, 0.0183, 0.0090, 0.0153, 0.0042, 0.0004, 0.9619],\n",
    "[0.0028, 0.0203, 0.0207, 0.0195, 0.0079, 0.0115, 0.0069, 0.0023, 0.8156],\n",
    "[0.0044, 0.0183, 0.0195, 0.0261, 0.0081, 0.0116, 0.0041, 0.0114, -0.0785],\n",
    "[0.0012, 0.0090, 0.0079, 0.0081, 0.0038, 0.0047, 0.0028, 0.0018, 0.2155],\n",
    "[0.0043, 0.0153, 0.0115, 0.0116, 0.0047, 0.0245, 0.0068, 0.0007, -0.2240],\n",
    "[-0.0049, 0.0042, 0.0069, 0.0041, 0.0028, 0.0068, 0.0475, 0.0016, 0.0124],\n",
    "[0.0041, 0.0004, 0.0023, 0.0114, 0.0018, 0.0007, 0.0016, 0.0177\t-1.1228],\n",
    "[-0.0737, 0.9619, 0.8156, -0.0785, 0.2155, -0.2240, 0.0124, -1.1228, 224.0111]]\n",
    "\n",
    "# correlation table\n",
    "corr = [[1,0.44,0.34,0.48,0.35,0.48,-0.39,0.54,-0.09],\n",
    "[0.44,\t1,\t0.90,\t0.72,\t0.93,\t0.62,\t0.12,\t0.02,\t0.41],\n",
    "[0.34,\t0.90,\t1,\t0.84,\t0.89,\t0.51,\t0.22,\t0.12,\t0.38],\n",
    "[0.48,\t0.72,\t0.84,\t1,\t0.82,\t0.46,\t0.12,\t0.53,\t-0.03],\n",
    "[0.35,\t0.93,\t0.89,\t0.82,\t1,\t0.49,\t0.21,\t0.22,\t0.23],\n",
    "[0.48,\t0.62,\t0.51,\t0.46,\t0.49,\t1,\t0.20,\t0.03,\t-0.10],\n",
    "[-0.39,\t0.12,\t0.22,\t0.12,\t0.21,\t0.20,\t1,\t0.05,\t0.00],\n",
    "[0.54,\t0.02,\t0.12,\t0.53,\t0.22,\t0.03,\t0.05,\t1,\t-0.56],\n",
    "[-0.09,\t0.41,\t0.38,\t-0.03,\t0.23,\t-0.10,\t0.00,\t-0.56,\t1]]\n",
    "\n"
   ]
  },
  {
   "cell_type": "code",
   "execution_count": null,
   "metadata": {},
   "outputs": [],
   "source": [
    "# data pre-processing"
   ]
  }
 ],
 "metadata": {
  "kernelspec": {
   "display_name": "Python 3",
   "language": "python",
   "name": "python3"
  },
  "language_info": {
   "codemirror_mode": {
    "name": "ipython",
    "version": 3
   },
   "file_extension": ".py",
   "mimetype": "text/x-python",
   "name": "python",
   "nbconvert_exporter": "python",
   "pygments_lexer": "ipython3",
   "version": "3.9.6"
  }
 },
 "nbformat": 4,
 "nbformat_minor": 2
}
